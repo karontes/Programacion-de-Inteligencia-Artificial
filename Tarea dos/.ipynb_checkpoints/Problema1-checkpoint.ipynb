{
 "cells": [
  {
   "cell_type": "code",
   "execution_count": 13,
   "id": "822b8873-bd43-428c-bd5b-4e6ae9b52151",
   "metadata": {},
   "outputs": [],
   "source": [
    "#Problema 1. División de una lista de enteros.\n",
    "#Escribe una función que reciba por parámetro una lista de enteros y devuelva\n",
    "#dos listas: una con los valores negativos que tuviera y otra con los positivos.\n",
    "#Ambas listas deben estar ordenadas ascendentemente\n",
    "def separar_numeros_positivos_negativos(listaNumeros):\n",
    "    negativos = sorted([numero for numero in listaNumeros if numero < 0])\n",
    "    positivos = sorted([numero for numero in listaNumeros if numero >= 0])\n",
    "    return negativos, positivos\n",
    "\n",
    "listaEjemplo = [0,15,-97,-6,35,8,16,-1]\n",
    "\n",
    "    "
   ]
  },
  {
   "cell_type": "code",
   "execution_count": 15,
   "id": "947a2785-1ef3-47fd-be4a-de16d129d941",
   "metadata": {},
   "outputs": [
    {
     "data": {
      "text/plain": [
       "([-97, -6, -1], [0, 8, 15, 16, 35])"
      ]
     },
     "execution_count": 15,
     "metadata": {},
     "output_type": "execute_result"
    }
   ],
   "source": [
    "separar_numeros_positivos_negativos(listaEjemplo)"
   ]
  },
  {
   "cell_type": "code",
   "execution_count": null,
   "id": "d9445724-0692-4b30-9f52-c9089ec3b17b",
   "metadata": {},
   "outputs": [],
   "source": []
  }
 ],
 "metadata": {
  "kernelspec": {
   "display_name": "Python 3 (ipykernel)",
   "language": "python",
   "name": "python3"
  },
  "language_info": {
   "codemirror_mode": {
    "name": "ipython",
    "version": 3
   },
   "file_extension": ".py",
   "mimetype": "text/x-python",
   "name": "python",
   "nbconvert_exporter": "python",
   "pygments_lexer": "ipython3",
   "version": "3.12.4"
  }
 },
 "nbformat": 4,
 "nbformat_minor": 5
}

{
 "cells": [
  {
   "cell_type": "code",
   "execution_count": null,
   "id": "042e9fa6-6a8f-4c1f-b10b-e3f4da107720",
   "metadata": {},
   "outputs": [],
   "source": [
    "#Problema 3. Intersección y unión de conjuntos\n",
    "#Escribe un programa que permita al usuario crear dos conjuntos de números\n",
    "#enteros. Luego, el programa debe calcular y mostrar:\n",
    "#1. La intersección de ambos conjuntos (elementos comunes).\n",
    "#2. La unión de ambos conjuntos (todos los elementos sin duplicados).\n",
    "#3. La diferencia simétrica (elementos que están en uno u otro conjunto,\n",
    "#pero no en ambos). "
   ]
  },
  {
   "cell_type": "code",
   "execution_count": 1,
   "id": "5093b329-5811-4f0f-8423-e39a17d609c2",
   "metadata": {},
   "outputs": [
    {
     "name": "stdin",
     "output_type": "stream",
     "text": [
      "Introduce numeros enteros para el conjunto 1 separados por comas:  1,15,-6,18,-369,5,7,0,-32\n",
      "Introduce numeros enteros para el conjunto 2 separados por comas:  -6,5,7,0,154,25,111,-548,-65\n"
     ]
    },
    {
     "name": "stdout",
     "output_type": "stream",
     "text": [
      "\n",
      "Conjunto 1: {0, 1, -32, 5, 7, -369, 15, 18, -6}\n",
      "\n",
      "Conjunto 2: {0, 5, 154, 7, 111, 25, -6, -548, -65}\n",
      "\n",
      "Interseccion: [-6, 0, 5, 7]\n",
      "\n",
      "Union [-548, -369, -65, -32, -6, 0, 1, 5, 7, 15, 18, 25, 111, 154]\n",
      "\n",
      "Diferencia simetrica [-548, -369, -65, -32, 1, 15, 18, 25, 111, 154]\n"
     ]
    }
   ],
   "source": [
    "def crear_conjunto_numeros(numeroConjunto):\n",
    "    mensaje = f\"Introduce numeros enteros para el conjunto {numeroConjunto} separados por comas: \"\n",
    "    entrada = input(mensaje)\n",
    "    conjunto = set(map(int, entrada.split(\",\")))\n",
    "    return conjunto\n",
    "\n",
    "\n",
    "conjunto1 = crear_conjunto_numeros(1)\n",
    "conjunto2 = crear_conjunto_numeros(2)\n",
    "print(\"\\nConjunto 1:\", conjunto1)\n",
    "print(\"\\nConjunto 2:\", conjunto2)\n",
    "print(\"\\nInterseccion:\", sorted(conjunto1.intersection(conjunto2)))\n",
    "union = set(conjunto1).union(set(conjunto2))\n",
    "print(\"\\nUnion\", sorted(union))\n",
    "difSimetrica = list(set(conjunto1).symmetric_difference(set(conjunto2)))\n",
    "print(\"\\nDiferencia simetrica\", sorted(difSimetrica))"
   ]
  },
  {
   "cell_type": "code",
   "execution_count": null,
   "id": "2d50a2c8-d1eb-450e-8249-585896e852eb",
   "metadata": {},
   "outputs": [],
   "source": []
  }
 ],
 "metadata": {
  "kernelspec": {
   "display_name": "Python 3 (ipykernel)",
   "language": "python",
   "name": "python3"
  },
  "language_info": {
   "codemirror_mode": {
    "name": "ipython",
    "version": 3
   },
   "file_extension": ".py",
   "mimetype": "text/x-python",
   "name": "python",
   "nbconvert_exporter": "python",
   "pygments_lexer": "ipython3",
   "version": "3.12.4"
  }
 },
 "nbformat": 4,
 "nbformat_minor": 5
}

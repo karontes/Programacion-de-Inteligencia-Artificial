{
 "cells": [
  {
   "cell_type": "code",
   "execution_count": null,
   "id": "042e9fa6-6a8f-4c1f-b10b-e3f4da107720",
   "metadata": {},
   "outputs": [],
   "source": [
    "#Problema 3. Intersección y unión de conjuntos\n",
    "#Escribe un programa que permita al usuario crear dos conjuntos de números\n",
    "#enteros. Luego, el programa debe calcular y mostrar:\n",
    "#1. La intersección de ambos conjuntos (elementos comunes).\n",
    "#2. La unión de ambos conjuntos (todos los elementos sin duplicados).\n",
    "#3. La diferencia simétrica (elementos que están en uno u otro conjunto,\n",
    "#pero no en ambos). "
   ]
  }
 ],
 "metadata": {
  "kernelspec": {
   "display_name": "Python 3 (ipykernel)",
   "language": "python",
   "name": "python3"
  },
  "language_info": {
   "codemirror_mode": {
    "name": "ipython",
    "version": 3
   },
   "file_extension": ".py",
   "mimetype": "text/x-python",
   "name": "python",
   "nbconvert_exporter": "python",
   "pygments_lexer": "ipython3",
   "version": "3.12.4"
  }
 },
 "nbformat": 4,
 "nbformat_minor": 5
}

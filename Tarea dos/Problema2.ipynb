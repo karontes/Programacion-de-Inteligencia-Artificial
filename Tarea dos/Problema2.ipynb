{
 "cells": [
  {
   "cell_type": "code",
   "execution_count": 2,
   "id": "703d1ad0-3111-40f5-8950-ef8809cfa39d",
   "metadata": {},
   "outputs": [],
   "source": [
    "#Problema 2. Frecuencia de palabras en un texto.\n",
    "#Escribe un programa que pida al usuario ingresar una frase o párrafo. Luego, el\n",
    "#programa debe contar cuántas veces aparece cada palabra en el texto y mostrar\n",
    "#las palabras junto con su frecuencia.\n",
    "#Requisitos:\n",
    "#1. Eliminar los signos de puntuación y convertir todas las palabras a\n",
    "#minúsculas para evitar diferencias.\n",
    "#2. Usar un diccionario donde la clave sea la palabra y el valor sea su\n",
    "#frecuencia.\n",
    "#3. Mostrar las palabras y sus frecuencias de forma ordenada por la palabra. "
   ]
  },
  {
   "cell_type": "code",
   "execution_count": 8,
   "id": "a73386a2-3a3d-4e79-b59c-ed126c3a9284",
   "metadata": {},
   "outputs": [
    {
     "name": "stdout",
     "output_type": "stream",
     "text": [
      "Introduce un texto:\n"
     ]
    },
    {
     "name": "stdin",
     "output_type": "stream",
     "text": [
      " Accede a la página web de GitHub y sigue los pasos para registrarte y crearte una cuenta. Cuando se te pida que especifiques si eres alumno o profesor, pulsa en la opción que aparece en la parte inferior de la pantalla \"skip personaliza on\". Tras concluir el proceso de registro, crea tu primer repositorio, incluyendo, de momento, un archivo pdf en el que añadas, una breve explicación de cómo lo has hecho.\n"
     ]
    },
    {
     "name": "stdout",
     "output_type": "stream",
     "text": [
      "{'a': 1, 'accede': 1, 'alumno': 1, 'aparece': 1, 'archivo': 1, 'añadas': 1, 'breve': 1, 'concluir': 1, 'crea': 1, 'crearte': 1, 'cuando': 1, 'cuenta': 1, 'cómo': 1, 'de': 5, 'el': 2, 'en': 3, 'eres': 1, 'especifiques': 1, 'explicación': 1, 'github': 1, 'has': 1, 'hecho': 1, 'incluyendo': 1, 'inferior': 1, 'la': 4, 'lo': 1, 'los': 1, 'momento': 1, 'o': 1, 'on': 1, 'opción': 1, 'pantalla': 1, 'para': 1, 'parte': 1, 'pasos': 1, 'pdf': 1, 'personaliza': 1, 'pida': 1, 'primer': 1, 'proceso': 1, 'profesor': 1, 'pulsa': 1, 'página': 1, 'que': 3, 'registrarte': 1, 'registro': 1, 'repositorio': 1, 'se': 1, 'si': 1, 'sigue': 1, 'skip': 1, 'te': 1, 'tras': 1, 'tu': 1, 'un': 1, 'una': 2, 'web': 1, 'y': 2}\n"
     ]
    }
   ],
   "source": [
    "import string\n",
    "from collections import Counter\n",
    "import re\n",
    "print(\"Introduce un texto:\")\n",
    "texto = input()\n",
    "elementosEliminar = '\"\"'''\n",
    "patronEliminar = f'[{re.escape(string.punctuation + elementosEliminar)}]'\n",
    "textoSoloPalabras = re.sub(patronEliminar, '', texto)\n",
    "listaCount = dict(Counter(sorted(textoSoloPalabras.lower().split())))\n",
    "print(listaCount)"
   ]
  },
  {
   "cell_type": "code",
   "execution_count": null,
   "id": "aa71e9bb-1e66-455d-bcde-6a3c2374a649",
   "metadata": {},
   "outputs": [],
   "source": []
  }
 ],
 "metadata": {
  "kernelspec": {
   "display_name": "Python 3 (ipykernel)",
   "language": "python",
   "name": "python3"
  },
  "language_info": {
   "codemirror_mode": {
    "name": "ipython",
    "version": 3
   },
   "file_extension": ".py",
   "mimetype": "text/x-python",
   "name": "python",
   "nbconvert_exporter": "python",
   "pygments_lexer": "ipython3",
   "version": "3.12.4"
  }
 },
 "nbformat": 4,
 "nbformat_minor": 5
}
